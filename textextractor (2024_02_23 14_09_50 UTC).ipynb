{
 "cells": [
  {
   "cell_type": "code",
   "execution_count": 43,
   "metadata": {},
   "outputs": [],
   "source": [
    "from textblob import TextBlob\n",
    "\n",
    "def import_chat(filename):\n",
    "    inputfile = open(filename, 'r')\n",
    "    lines = inputfile.readlines()\n",
    "    return lines\n",
    "\n",
    "def get_player_list(lines):\n",
    "    players = []\n",
    "    for line in lines:\n",
    "        current_name = line.split()[0]\n",
    "        if current_name[len(current_name)-1] == ':':\n",
    "            current_name = current_name[:-1]\n",
    "        if current_name not in players:\n",
    "            players.append(current_name)\n",
    "    return players\n",
    "    \n",
    "def get_player_chat(player, lines):\n",
    "    player_chat = []\n",
    "    for line in lines:\n",
    "        if player in line:\n",
    "            player_chat.append(line)\n",
    "    return player_chat\n",
    "\n",
    "#do sentiment analysis on a player's chat\n",
    "def sentiment_analysis(player_chat):\n",
    "    sentiment = 0\n",
    "    for line in player_chat:\n",
    "        sentiment += (TextBlob(line).sentiment.polarity)*(TextBlob(line).sentiment.subjectivity)\n",
    "    return sentiment"
   ]
  },
  {
   "cell_type": "code",
   "execution_count": 44,
   "metadata": {},
   "outputs": [
    {
     "name": "stdout",
     "output_type": "stream",
     "text": [
      "0.005848765432098724\n",
      "MelonFusion: ns\n",
      "\n",
      "MelonFusion: gh\n",
      "\n",
      "MelonFusion: what the fuck\n",
      "\n",
      "MelonFusion: how did u running 1 deag me down mid\n",
      "\n",
      "MelonFusion: gh\n",
      "\n",
      "MelonFusion: mate\n",
      "\n",
      "MelonFusion: how many do u fucking want to get through that smoke\n",
      "\n",
      "MelonFusion: second time in a row\n",
      "\n",
      "MelonFusion: gh\n",
      "\n",
      "MelonFusion: little did i know\n",
      "\n",
      "MelonFusion: my anxiety would be derived from this game\n",
      "\n",
      "MelonFusion: gh4\n",
      "\n",
      "MelonFusion: gh\n",
      "\n",
      "MelonFusion: 5\n",
      "\n",
      "MelonFusion: lennen\n",
      "\n",
      "MelonFusion: i got stuck on the barel\n",
      "\n",
      "MelonFusion: barrel\n",
      "\n",
      "MelonFusion: lmao\n",
      "\n",
      "MelonFusion: my stamina is slowly draining\n",
      "\n",
      "MelonFusion: i might have to ask my mum to take over soon\n",
      "\n",
      "MelonFusion: lmfao\n",
      "\n",
      "MelonFusion: GG WPP\n",
      "\n",
      "MelonFusion: most intense game of my life\n",
      "\n"
     ]
    }
   ],
   "source": [
    "importedChat = import_chat('input.txt')\n",
    "playerlist = get_player_list(importedChat)\n",
    "playerchat = get_player_chat(playerlist[0], importedChat)\n",
    "print(sentiment_analysis(playerchat))\n",
    "\n",
    "for line in playerchat:\n",
    "    print(line)\n"
   ]
  }
 ],
 "metadata": {
  "kernelspec": {
   "display_name": "base",
   "language": "python",
   "name": "python3"
  },
  "language_info": {
   "codemirror_mode": {
    "name": "ipython",
    "version": 3
   },
   "file_extension": ".py",
   "mimetype": "text/x-python",
   "name": "python",
   "nbconvert_exporter": "python",
   "pygments_lexer": "ipython3",
   "version": "3.11.5"
  }
 },
 "nbformat": 4,
 "nbformat_minor": 2
}
