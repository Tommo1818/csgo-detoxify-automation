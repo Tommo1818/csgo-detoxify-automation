{
 "cells": [
  {
   "cell_type": "code",
   "execution_count": 2,
   "metadata": {},
   "outputs": [
    {
     "name": "stderr",
     "output_type": "stream",
     "text": [
      "c:\\Users\\tvern\\anaconda3\\envs\\AI-General-3-10\\lib\\site-packages\\tqdm\\auto.py:21: TqdmWarning: IProgress not found. Please update jupyter and ipywidgets. See https://ipywidgets.readthedocs.io/en/stable/user_install.html\n",
      "  from .autonotebook import tqdm as notebook_tqdm\n"
     ]
    }
   ],
   "source": [
    "from textblob import TextBlob\n",
    "import pandas as pd\n",
    "from vaderSentiment.vaderSentiment import SentimentIntensityAnalyzer\n",
    "import spacy\n",
    "from spacy import displacy\n",
    "from detoxify import Detoxify\n",
    "import matplotlib.pyplot as plt\n",
    "import numpy as np\n",
    "from demoparser2 import DemoParser"
   ]
  },
  {
   "cell_type": "code",
   "execution_count": 3,
   "metadata": {},
   "outputs": [
    {
     "name": "stdout",
     "output_type": "stream",
     "text": [
      "Empty DataFrame\n",
      "Columns: [entid, name, message, param3, param4]\n",
      "Index: []\n"
     ]
    }
   ],
   "source": [
    "filename = 'demos2/max1-cb270e1b-5b18-4d38-b982-fd8d271ec94b-1-1.dem'\n",
    "\n",
    "parser = DemoParser(filename)\n",
    "messagesraw = parser.parse_chat_messages()\n",
    "print(messagesraw)"
   ]
  }
 ],
 "metadata": {
  "kernelspec": {
   "display_name": "AI-General-3-10",
   "language": "python",
   "name": "python3"
  },
  "language_info": {
   "codemirror_mode": {
    "name": "ipython",
    "version": 3
   },
   "file_extension": ".py",
   "mimetype": "text/x-python",
   "name": "python",
   "nbconvert_exporter": "python",
   "pygments_lexer": "ipython3",
   "version": "3.10.13"
  }
 },
 "nbformat": 4,
 "nbformat_minor": 2
}
